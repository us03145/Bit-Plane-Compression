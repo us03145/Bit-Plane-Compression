{
 "cells": [
  {
   "cell_type": "code",
   "execution_count": 1,
   "id": "bf868a82-cb99-4758-928b-7ad387942cb7",
   "metadata": {},
   "outputs": [
    {
     "name": "stdout",
     "output_type": "stream",
     "text": [
      "(396, 64)\n",
      "64\n",
      "[    0     0  8351     0     0     0     0     0     0     0     0     0     0     0     0     0     0     0     0     0   858 23674     0     0     0     0     0   518     0   363     0     0     0 13459   567     0     0     0   422     0     0     0     0     0     0     0     0     0     0     0  1169     0     0     0     0     0     0     0     0     0     0     0     0     0]\n"
     ]
    }
   ],
   "source": [
    "import numpy as np\n",
    "import math\n",
    "import time\n",
    "import sys\n",
    "np.set_printoptions(threshold=np.inf, linewidth=np.inf)\n",
    "test = np.load('/home/urimi1204/KETI/features.npy').reshape(-1, 64)\n",
    "print(test.shape)\n",
    "\n",
    "data = test[383]\n",
    "data = data.astype(np.uint16)\n",
    "print(len(data))\n",
    "print(data)"
   ]
  },
  {
   "cell_type": "code",
   "execution_count": 2,
   "id": "b97edece-496d-4872-a0d8-468565f24a8e",
   "metadata": {},
   "outputs": [],
   "source": [
    "# N words of M bit\n",
    "#             M   bit\n",
    "#    [[                      ]\n",
    "# N   [                      ]\n",
    "#     [                      ]\n",
    "# w   [                      ]\n",
    "# o   [                      ]\n",
    "# r             ...\n",
    "# d   [                      ]\n",
    "# s   [                      ]\n",
    "#     [                      ]\n",
    "#     [                      ]\n",
    "#     [                      ]]\n",
    "N = 64\n",
    "M = 16\n",
    "datatype = 'uint16'\n"
   ]
  },
  {
   "cell_type": "code",
   "execution_count": 3,
   "id": "6a8df89f-1dd0-43a4-83c9-d1ad17476bf7",
   "metadata": {},
   "outputs": [],
   "source": [
    "# decimal int number to binary numpy array\n",
    "def toBinary(value, wid):\n",
    "    value_bin = np.binary_repr(value, width = wid)\n",
    "    # width가 자릿수, value가 바꿀 정수\n",
    "    \n",
    "    value_bin = np.array(list(value_bin))\n",
    "    value_bin = value_bin.astype(datatype)\n",
    "    return value_bin"
   ]
  },
  {
   "cell_type": "code",
   "execution_count": 4,
   "id": "f64c6c4a-80e0-48d2-bc94-9e8a9ab847a6",
   "metadata": {},
   "outputs": [
    {
     "name": "stdout",
     "output_type": "stream",
     "text": [
      "[0 0 0 0 0 1 0]\n"
     ]
    }
   ],
   "source": [
    "a = 2\n",
    "print(toBinary(a, 7))"
   ]
  },
  {
   "cell_type": "code",
   "execution_count": 5,
   "id": "8d494e9b-3c70-4aa1-b484-f1b24821ed8e",
   "metadata": {},
   "outputs": [],
   "source": [
    "# binary numpy array to decimal int number\n",
    "def toDecimal(nparr):\n",
    "    fliarr = np.flip(nparr)\n",
    "    # 들어온 넘피 어레이의 끝자리부터 2곱해서 더해줄려고 1차원 넘피 어레이를 뒤집어주는 함수\n",
    "    # ex) [0 0 0 0 0 1] => [1 0 0 0 0 0]\n",
    "    \n",
    "    twoarr = np.array([2**0,2**1,2**2,2**3,2**4,2**5,2**6,2**7,2**8,2**9,2**10,2**11,2**12,2**13,2**14,2**15], dtype = np.uint16)\n",
    "    valuearr = fliarr * twoarr[0:len(fliarr)]\n",
    "    value = valuearr.sum()\n",
    "    return value\n"
   ]
  },
  {
   "cell_type": "code",
   "execution_count": 6,
   "id": "14e5dcfe-a2b7-488d-b5e7-bc44a67d3f75",
   "metadata": {},
   "outputs": [
    {
     "name": "stdout",
     "output_type": "stream",
     "text": [
      "65535\n",
      "16\n"
     ]
    }
   ],
   "source": [
    "b = np.array([1,1,1,1,1,1,1,1,1,1,1,1,1,1,1,1], dtype = datatype)\n",
    "print(toDecimal(b))\n",
    "print(b.sum())"
   ]
  },
  {
   "cell_type": "code",
   "execution_count": 7,
   "id": "d02ea0e5-070f-478a-bca1-3ca5a827e785",
   "metadata": {},
   "outputs": [],
   "source": [
    "def Delta(datablock):\n",
    "    baseword = datablock[0]\n",
    "    delta = datablock[1:].astype(np.uint16) - baseword\n",
    "    \n",
    "    delta = delta.astype(datatype)\n",
    "    \n",
    "    return baseword, delta"
   ]
  },
  {
   "cell_type": "code",
   "execution_count": 8,
   "id": "b780371e-75ee-4957-8b1e-bb3518f47fe4",
   "metadata": {},
   "outputs": [
    {
     "name": "stdout",
     "output_type": "stream",
     "text": [
      "0\n",
      "[    0  8351     0     0     0     0     0     0     0     0     0     0     0     0     0     0     0     0     0   858 23674     0     0     0     0     0   518     0   363     0     0     0 13459   567     0     0     0   422     0     0     0     0     0     0     0     0     0     0     0  1169     0     0     0     0     0     0     0     0     0     0     0     0     0]\n",
      "63\n"
     ]
    }
   ],
   "source": [
    "baseword, delta= Delta(data)\n",
    "print(baseword)\n",
    "print(delta)\n",
    "print(len(delta))"
   ]
  },
  {
   "cell_type": "code",
   "execution_count": 9,
   "id": "9edc37d5-94ff-43ff-9da1-fe5c7f79b4c4",
   "metadata": {},
   "outputs": [],
   "source": [
    "# change to bit plane\n",
    "def DBP16(deltablock):\n",
    "    deltas = np.unpackbits(deltablock.view(np.uint8)).reshape(-1, 16)\n",
    "    d1 = deltas[:,0:8]\n",
    "    d2 = deltas[:,8:16]\n",
    "    deltas = np.hstack((d2, d1))\n",
    "    deltas = deltas.astype(datatype)\n",
    "    \n",
    "    \n",
    "    dbps = np.array(list(zip(*deltas[::]))) ## 2차원 넘피 어레이를 90도 회전시키는 함수\n",
    "    return dbps"
   ]
  },
  {
   "cell_type": "code",
   "execution_count": 10,
   "id": "0ed4ec0b-c42c-40d9-9398-db595ab47461",
   "metadata": {},
   "outputs": [
    {
     "name": "stdout",
     "output_type": "stream",
     "text": [
      "[[0 0 0 0 0 0 0 0 0 0 0 0 0 0 0 0 0 0 0 0 0 0 0 0 0 0 0 0 0 0 0 0 0 0 0 0 0 0 0 0 0 0 0 0 0 0 0 0 0 0 0 0 0 0 0 0 0 0 0 0 0 0 0]\n",
      " [0 0 0 0 0 0 0 0 0 0 0 0 0 0 0 0 0 0 0 0 1 0 0 0 0 0 0 0 0 0 0 0 0 0 0 0 0 0 0 0 0 0 0 0 0 0 0 0 0 0 0 0 0 0 0 0 0 0 0 0 0 0 0]\n",
      " [0 1 0 0 0 0 0 0 0 0 0 0 0 0 0 0 0 0 0 0 0 0 0 0 0 0 0 0 0 0 0 0 1 0 0 0 0 0 0 0 0 0 0 0 0 0 0 0 0 0 0 0 0 0 0 0 0 0 0 0 0 0 0]\n",
      " [0 0 0 0 0 0 0 0 0 0 0 0 0 0 0 0 0 0 0 0 1 0 0 0 0 0 0 0 0 0 0 0 1 0 0 0 0 0 0 0 0 0 0 0 0 0 0 0 0 0 0 0 0 0 0 0 0 0 0 0 0 0 0]\n",
      " [0 0 0 0 0 0 0 0 0 0 0 0 0 0 0 0 0 0 0 0 1 0 0 0 0 0 0 0 0 0 0 0 0 0 0 0 0 0 0 0 0 0 0 0 0 0 0 0 0 0 0 0 0 0 0 0 0 0 0 0 0 0 0]\n",
      " [0 0 0 0 0 0 0 0 0 0 0 0 0 0 0 0 0 0 0 0 1 0 0 0 0 0 0 0 0 0 0 0 1 0 0 0 0 0 0 0 0 0 0 0 0 0 0 0 0 1 0 0 0 0 0 0 0 0 0 0 0 0 0]\n",
      " [0 0 0 0 0 0 0 0 0 0 0 0 0 0 0 0 0 0 0 1 0 0 0 0 0 0 1 0 0 0 0 0 0 1 0 0 0 0 0 0 0 0 0 0 0 0 0 0 0 0 0 0 0 0 0 0 0 0 0 0 0 0 0]\n",
      " [0 0 0 0 0 0 0 0 0 0 0 0 0 0 0 0 0 0 0 1 0 0 0 0 0 0 0 0 1 0 0 0 0 0 0 0 0 1 0 0 0 0 0 0 0 0 0 0 0 0 0 0 0 0 0 0 0 0 0 0 0 0 0]\n",
      " [0 1 0 0 0 0 0 0 0 0 0 0 0 0 0 0 0 0 0 0 0 0 0 0 0 0 0 0 0 0 0 0 1 0 0 0 0 1 0 0 0 0 0 0 0 0 0 0 0 1 0 0 0 0 0 0 0 0 0 0 0 0 0]\n",
      " [0 0 0 0 0 0 0 0 0 0 0 0 0 0 0 0 0 0 0 1 1 0 0 0 0 0 0 0 1 0 0 0 0 0 0 0 0 0 0 0 0 0 0 0 0 0 0 0 0 0 0 0 0 0 0 0 0 0 0 0 0 0 0]\n",
      " [0 0 0 0 0 0 0 0 0 0 0 0 0 0 0 0 0 0 0 0 1 0 0 0 0 0 0 0 1 0 0 0 0 1 0 0 0 1 0 0 0 0 0 0 0 0 0 0 0 0 0 0 0 0 0 0 0 0 0 0 0 0 0]\n",
      " [0 1 0 0 0 0 0 0 0 0 0 0 0 0 0 0 0 0 0 1 1 0 0 0 0 0 0 0 0 0 0 0 1 1 0 0 0 0 0 0 0 0 0 0 0 0 0 0 0 1 0 0 0 0 0 0 0 0 0 0 0 0 0]\n",
      " [0 1 0 0 0 0 0 0 0 0 0 0 0 0 0 0 0 0 0 1 1 0 0 0 0 0 0 0 1 0 0 0 0 0 0 0 0 0 0 0 0 0 0 0 0 0 0 0 0 0 0 0 0 0 0 0 0 0 0 0 0 0 0]\n",
      " [0 1 0 0 0 0 0 0 0 0 0 0 0 0 0 0 0 0 0 0 0 0 0 0 0 0 1 0 0 0 0 0 0 1 0 0 0 1 0 0 0 0 0 0 0 0 0 0 0 0 0 0 0 0 0 0 0 0 0 0 0 0 0]\n",
      " [0 1 0 0 0 0 0 0 0 0 0 0 0 0 0 0 0 0 0 1 1 0 0 0 0 0 1 0 1 0 0 0 1 1 0 0 0 1 0 0 0 0 0 0 0 0 0 0 0 0 0 0 0 0 0 0 0 0 0 0 0 0 0]\n",
      " [0 1 0 0 0 0 0 0 0 0 0 0 0 0 0 0 0 0 0 0 0 0 0 0 0 0 0 0 1 0 0 0 1 1 0 0 0 0 0 0 0 0 0 0 0 0 0 0 0 1 0 0 0 0 0 0 0 0 0 0 0 0 0]]\n",
      "(16, 63)\n"
     ]
    }
   ],
   "source": [
    "dbps16 = DBP16(delta)\n",
    "print(dbps16)\n",
    "print(dbps16.shape)"
   ]
  },
  {
   "cell_type": "code",
   "execution_count": 11,
   "id": "23020f17-b634-4fdc-b76d-dcb79cf613f7",
   "metadata": {},
   "outputs": [],
   "source": [
    "# calculate to delta-bit plane-xor\n",
    "def DBX16(dbps):\n",
    "    x1 = np.delete(dbps, 0, 0).astype(np.uint16)\n",
    "    x2 = np.delete(dbps, dbps.shape[0] - 1, 0).astype(np.uint16)\n",
    "    xored = x1 ^ x2\n",
    "    xored = np.vstack([dbps[0], xored])\n",
    "    return xored\n"
   ]
  },
  {
   "cell_type": "code",
   "execution_count": 12,
   "id": "ff470d17-6cb5-4fb7-bcbd-746a4aad2ac7",
   "metadata": {},
   "outputs": [
    {
     "name": "stdout",
     "output_type": "stream",
     "text": [
      "[[0 0 0 0 0 0 0 0 0 0 0 0 0 0 0 0 0 0 0 0 0 0 0 0 0 0 0 0 0 0 0 0 0 0 0 0 0 0 0 0 0 0 0 0 0 0 0 0 0 0 0 0 0 0 0 0 0 0 0 0 0 0 0]\n",
      " [0 0 0 0 0 0 0 0 0 0 0 0 0 0 0 0 0 0 0 0 1 0 0 0 0 0 0 0 0 0 0 0 0 0 0 0 0 0 0 0 0 0 0 0 0 0 0 0 0 0 0 0 0 0 0 0 0 0 0 0 0 0 0]\n",
      " [0 1 0 0 0 0 0 0 0 0 0 0 0 0 0 0 0 0 0 0 1 0 0 0 0 0 0 0 0 0 0 0 1 0 0 0 0 0 0 0 0 0 0 0 0 0 0 0 0 0 0 0 0 0 0 0 0 0 0 0 0 0 0]\n",
      " [0 1 0 0 0 0 0 0 0 0 0 0 0 0 0 0 0 0 0 0 1 0 0 0 0 0 0 0 0 0 0 0 0 0 0 0 0 0 0 0 0 0 0 0 0 0 0 0 0 0 0 0 0 0 0 0 0 0 0 0 0 0 0]\n",
      " [0 0 0 0 0 0 0 0 0 0 0 0 0 0 0 0 0 0 0 0 0 0 0 0 0 0 0 0 0 0 0 0 1 0 0 0 0 0 0 0 0 0 0 0 0 0 0 0 0 0 0 0 0 0 0 0 0 0 0 0 0 0 0]\n",
      " [0 0 0 0 0 0 0 0 0 0 0 0 0 0 0 0 0 0 0 0 0 0 0 0 0 0 0 0 0 0 0 0 1 0 0 0 0 0 0 0 0 0 0 0 0 0 0 0 0 1 0 0 0 0 0 0 0 0 0 0 0 0 0]\n",
      " [0 0 0 0 0 0 0 0 0 0 0 0 0 0 0 0 0 0 0 1 1 0 0 0 0 0 1 0 0 0 0 0 1 1 0 0 0 0 0 0 0 0 0 0 0 0 0 0 0 1 0 0 0 0 0 0 0 0 0 0 0 0 0]\n",
      " [0 0 0 0 0 0 0 0 0 0 0 0 0 0 0 0 0 0 0 0 0 0 0 0 0 0 1 0 1 0 0 0 0 1 0 0 0 1 0 0 0 0 0 0 0 0 0 0 0 0 0 0 0 0 0 0 0 0 0 0 0 0 0]\n",
      " [0 1 0 0 0 0 0 0 0 0 0 0 0 0 0 0 0 0 0 1 0 0 0 0 0 0 0 0 1 0 0 0 1 0 0 0 0 0 0 0 0 0 0 0 0 0 0 0 0 1 0 0 0 0 0 0 0 0 0 0 0 0 0]\n",
      " [0 1 0 0 0 0 0 0 0 0 0 0 0 0 0 0 0 0 0 1 1 0 0 0 0 0 0 0 1 0 0 0 1 0 0 0 0 1 0 0 0 0 0 0 0 0 0 0 0 1 0 0 0 0 0 0 0 0 0 0 0 0 0]\n",
      " [0 0 0 0 0 0 0 0 0 0 0 0 0 0 0 0 0 0 0 1 0 0 0 0 0 0 0 0 0 0 0 0 0 1 0 0 0 1 0 0 0 0 0 0 0 0 0 0 0 0 0 0 0 0 0 0 0 0 0 0 0 0 0]\n",
      " [0 1 0 0 0 0 0 0 0 0 0 0 0 0 0 0 0 0 0 1 0 0 0 0 0 0 0 0 1 0 0 0 1 0 0 0 0 1 0 0 0 0 0 0 0 0 0 0 0 1 0 0 0 0 0 0 0 0 0 0 0 0 0]\n",
      " [0 0 0 0 0 0 0 0 0 0 0 0 0 0 0 0 0 0 0 0 0 0 0 0 0 0 0 0 1 0 0 0 1 1 0 0 0 0 0 0 0 0 0 0 0 0 0 0 0 1 0 0 0 0 0 0 0 0 0 0 0 0 0]\n",
      " [0 0 0 0 0 0 0 0 0 0 0 0 0 0 0 0 0 0 0 1 1 0 0 0 0 0 1 0 1 0 0 0 0 1 0 0 0 1 0 0 0 0 0 0 0 0 0 0 0 0 0 0 0 0 0 0 0 0 0 0 0 0 0]\n",
      " [0 0 0 0 0 0 0 0 0 0 0 0 0 0 0 0 0 0 0 1 1 0 0 0 0 0 0 0 1 0 0 0 1 0 0 0 0 0 0 0 0 0 0 0 0 0 0 0 0 0 0 0 0 0 0 0 0 0 0 0 0 0 0]\n",
      " [0 0 0 0 0 0 0 0 0 0 0 0 0 0 0 0 0 0 0 1 1 0 0 0 0 0 1 0 0 0 0 0 0 0 0 0 0 1 0 0 0 0 0 0 0 0 0 0 0 1 0 0 0 0 0 0 0 0 0 0 0 0 0]]\n",
      "(16, 63)\n"
     ]
    }
   ],
   "source": [
    "dbxs16 = DBX16(dbps16)\n",
    "print(dbxs16)\n",
    "print(dbxs16.shape)"
   ]
  },
  {
   "cell_type": "code",
   "execution_count": 13,
   "id": "d49cd90d",
   "metadata": {},
   "outputs": [],
   "source": [
    "def Encoder(dbp, dbx):\n",
    "    \n",
    "    global patt0\n",
    "    \n",
    "    # if DBX plane is all 1 or all 0\n",
    "    if np.all(dbx==0):\n",
    "        return 3, np.array([0, 0, 1], dtype = datatype)\n",
    "    elif np.all(dbx==1):\n",
    "        return 5, np.array([0, 0, 0, 0, 0], dtype = datatype)\n",
    "    elif np.all(dbp==0):\n",
    "        return 5, np.array([0, 0, 0, 0, 1], dtype = datatype)\n",
    "    \n",
    "    \n",
    "    # plane is not all 1 or all 0\n",
    "    pos_one = np.where(dbx == 1)[0]\n",
    "    \n",
    "    # single 1\n",
    "    if len(pos_one) == 1:\n",
    "        return 5 + 6, np.concatenate((np.array([0, 0, 0, 1, 1], dtype = datatype), toBinary(62 - pos_one[0], 6))) ## len(delta)가 이미 N-1이므로, 바로 log2를 취하면 됩니다\n",
    "    \n",
    "    \n",
    "    elif len(pos_one) == 2:\n",
    "        # Consecutive two 1 연속된 1\n",
    "        if pos_one[1] - pos_one[0] == 1:\n",
    "            return 5 + 6, np.concatenate((np.array([0, 0, 0, 1, 0], dtype = datatype), toBinary(62 - pos_one[1], 6))) ## 똑같이 -2가 아니라 -1만 하면 됨\n",
    "        \n",
    "        # 연속되지 않은 1 => not compress\n",
    "        else:\n",
    "            return len(delta)+1, np.concatenate((np.array([1], dtype=datatype), dbx))\n",
    "        \n",
    "    else:\n",
    "        return len(delta)+1, np.concatenate((np.array([1], dtype=datatype), dbx))"
   ]
  },
  {
   "cell_type": "code",
   "execution_count": 14,
   "id": "a4ef4552-376b-4ca1-a069-ae687b19bfb0",
   "metadata": {},
   "outputs": [
    {
     "name": "stdout",
     "output_type": "stream",
     "text": [
      "[0 0 0 0 0 0 0 0 0 0 0 0 0 0 0 0 0 0 0 0 0 0 0 0 0 0 0 0 0 0 0 0 0 0 0 0 0 0 0 0 0 0 0 0 0 0 0 0 0 0 0 0 0 0 0 0 0 0 0 0 0 0 0] -> 3 [0 0 1]\n",
      "[0 0 0 0 0 0 0 0 0 0 0 0 0 0 0 0 0 0 0 0 1 0 0 0 0 0 0 0 0 0 0 0 0 0 0 0 0 0 0 0 0 0 0 0 0 0 0 0 0 0 0 0 0 0 0 0 0 0 0 0 0 0 0] -> 11 [0 0 0 1 1 1 0 1 0 1 0]\n",
      "[0 1 0 0 0 0 0 0 0 0 0 0 0 0 0 0 0 0 0 0 1 0 0 0 0 0 0 0 0 0 0 0 1 0 0 0 0 0 0 0 0 0 0 0 0 0 0 0 0 0 0 0 0 0 0 0 0 0 0 0 0 0 0] -> 64 [1 0 1 0 0 0 0 0 0 0 0 0 0 0 0 0 0 0 0 0 0 1 0 0 0 0 0 0 0 0 0 0 0 1 0 0 0 0 0 0 0 0 0 0 0 0 0 0 0 0 0 0 0 0 0 0 0 0 0 0 0 0 0 0]\n",
      "[0 1 0 0 0 0 0 0 0 0 0 0 0 0 0 0 0 0 0 0 1 0 0 0 0 0 0 0 0 0 0 0 0 0 0 0 0 0 0 0 0 0 0 0 0 0 0 0 0 0 0 0 0 0 0 0 0 0 0 0 0 0 0] -> 64 [1 0 1 0 0 0 0 0 0 0 0 0 0 0 0 0 0 0 0 0 0 1 0 0 0 0 0 0 0 0 0 0 0 0 0 0 0 0 0 0 0 0 0 0 0 0 0 0 0 0 0 0 0 0 0 0 0 0 0 0 0 0 0 0]\n",
      "[0 0 0 0 0 0 0 0 0 0 0 0 0 0 0 0 0 0 0 0 0 0 0 0 0 0 0 0 0 0 0 0 1 0 0 0 0 0 0 0 0 0 0 0 0 0 0 0 0 0 0 0 0 0 0 0 0 0 0 0 0 0 0] -> 11 [0 0 0 1 1 0 1 1 1 1 0]\n",
      "[0 0 0 0 0 0 0 0 0 0 0 0 0 0 0 0 0 0 0 0 0 0 0 0 0 0 0 0 0 0 0 0 1 0 0 0 0 0 0 0 0 0 0 0 0 0 0 0 0 1 0 0 0 0 0 0 0 0 0 0 0 0 0] -> 64 [1 0 0 0 0 0 0 0 0 0 0 0 0 0 0 0 0 0 0 0 0 0 0 0 0 0 0 0 0 0 0 0 0 1 0 0 0 0 0 0 0 0 0 0 0 0 0 0 0 0 1 0 0 0 0 0 0 0 0 0 0 0 0 0]\n",
      "[0 0 0 0 0 0 0 0 0 0 0 0 0 0 0 0 0 0 0 1 1 0 0 0 0 0 1 0 0 0 0 0 1 1 0 0 0 0 0 0 0 0 0 0 0 0 0 0 0 1 0 0 0 0 0 0 0 0 0 0 0 0 0] -> 64 [1 0 0 0 0 0 0 0 0 0 0 0 0 0 0 0 0 0 0 0 1 1 0 0 0 0 0 1 0 0 0 0 0 1 1 0 0 0 0 0 0 0 0 0 0 0 0 0 0 0 1 0 0 0 0 0 0 0 0 0 0 0 0 0]\n",
      "[0 0 0 0 0 0 0 0 0 0 0 0 0 0 0 0 0 0 0 0 0 0 0 0 0 0 1 0 1 0 0 0 0 1 0 0 0 1 0 0 0 0 0 0 0 0 0 0 0 0 0 0 0 0 0 0 0 0 0 0 0 0 0] -> 64 [1 0 0 0 0 0 0 0 0 0 0 0 0 0 0 0 0 0 0 0 0 0 0 0 0 0 0 1 0 1 0 0 0 0 1 0 0 0 1 0 0 0 0 0 0 0 0 0 0 0 0 0 0 0 0 0 0 0 0 0 0 0 0 0]\n",
      "[0 1 0 0 0 0 0 0 0 0 0 0 0 0 0 0 0 0 0 1 0 0 0 0 0 0 0 0 1 0 0 0 1 0 0 0 0 0 0 0 0 0 0 0 0 0 0 0 0 1 0 0 0 0 0 0 0 0 0 0 0 0 0] -> 64 [1 0 1 0 0 0 0 0 0 0 0 0 0 0 0 0 0 0 0 0 1 0 0 0 0 0 0 0 0 1 0 0 0 1 0 0 0 0 0 0 0 0 0 0 0 0 0 0 0 0 1 0 0 0 0 0 0 0 0 0 0 0 0 0]\n",
      "[0 1 0 0 0 0 0 0 0 0 0 0 0 0 0 0 0 0 0 1 1 0 0 0 0 0 0 0 1 0 0 0 1 0 0 0 0 1 0 0 0 0 0 0 0 0 0 0 0 1 0 0 0 0 0 0 0 0 0 0 0 0 0] -> 64 [1 0 1 0 0 0 0 0 0 0 0 0 0 0 0 0 0 0 0 0 1 1 0 0 0 0 0 0 0 1 0 0 0 1 0 0 0 0 1 0 0 0 0 0 0 0 0 0 0 0 1 0 0 0 0 0 0 0 0 0 0 0 0 0]\n",
      "[0 0 0 0 0 0 0 0 0 0 0 0 0 0 0 0 0 0 0 1 0 0 0 0 0 0 0 0 0 0 0 0 0 1 0 0 0 1 0 0 0 0 0 0 0 0 0 0 0 0 0 0 0 0 0 0 0 0 0 0 0 0 0] -> 64 [1 0 0 0 0 0 0 0 0 0 0 0 0 0 0 0 0 0 0 0 1 0 0 0 0 0 0 0 0 0 0 0 0 0 1 0 0 0 1 0 0 0 0 0 0 0 0 0 0 0 0 0 0 0 0 0 0 0 0 0 0 0 0 0]\n",
      "[0 1 0 0 0 0 0 0 0 0 0 0 0 0 0 0 0 0 0 1 0 0 0 0 0 0 0 0 1 0 0 0 1 0 0 0 0 1 0 0 0 0 0 0 0 0 0 0 0 1 0 0 0 0 0 0 0 0 0 0 0 0 0] -> 64 [1 0 1 0 0 0 0 0 0 0 0 0 0 0 0 0 0 0 0 0 1 0 0 0 0 0 0 0 0 1 0 0 0 1 0 0 0 0 1 0 0 0 0 0 0 0 0 0 0 0 1 0 0 0 0 0 0 0 0 0 0 0 0 0]\n",
      "[0 0 0 0 0 0 0 0 0 0 0 0 0 0 0 0 0 0 0 0 0 0 0 0 0 0 0 0 1 0 0 0 1 1 0 0 0 0 0 0 0 0 0 0 0 0 0 0 0 1 0 0 0 0 0 0 0 0 0 0 0 0 0] -> 64 [1 0 0 0 0 0 0 0 0 0 0 0 0 0 0 0 0 0 0 0 0 0 0 0 0 0 0 0 0 1 0 0 0 1 1 0 0 0 0 0 0 0 0 0 0 0 0 0 0 0 1 0 0 0 0 0 0 0 0 0 0 0 0 0]\n",
      "[0 0 0 0 0 0 0 0 0 0 0 0 0 0 0 0 0 0 0 1 1 0 0 0 0 0 1 0 1 0 0 0 0 1 0 0 0 1 0 0 0 0 0 0 0 0 0 0 0 0 0 0 0 0 0 0 0 0 0 0 0 0 0] -> 64 [1 0 0 0 0 0 0 0 0 0 0 0 0 0 0 0 0 0 0 0 1 1 0 0 0 0 0 1 0 1 0 0 0 0 1 0 0 0 1 0 0 0 0 0 0 0 0 0 0 0 0 0 0 0 0 0 0 0 0 0 0 0 0 0]\n",
      "[0 0 0 0 0 0 0 0 0 0 0 0 0 0 0 0 0 0 0 1 1 0 0 0 0 0 0 0 1 0 0 0 1 0 0 0 0 0 0 0 0 0 0 0 0 0 0 0 0 0 0 0 0 0 0 0 0 0 0 0 0 0 0] -> 64 [1 0 0 0 0 0 0 0 0 0 0 0 0 0 0 0 0 0 0 0 1 1 0 0 0 0 0 0 0 1 0 0 0 1 0 0 0 0 0 0 0 0 0 0 0 0 0 0 0 0 0 0 0 0 0 0 0 0 0 0 0 0 0 0]\n",
      "[0 0 0 0 0 0 0 0 0 0 0 0 0 0 0 0 0 0 0 1 1 0 0 0 0 0 1 0 0 0 0 0 0 0 0 0 0 1 0 0 0 0 0 0 0 0 0 0 0 1 0 0 0 0 0 0 0 0 0 0 0 0 0] -> 64 [1 0 0 0 0 0 0 0 0 0 0 0 0 0 0 0 0 0 0 0 1 1 0 0 0 0 0 1 0 0 0 0 0 0 0 0 0 0 1 0 0 0 0 0 0 0 0 0 0 0 1 0 0 0 0 0 0 0 0 0 0 0 0 0]\n"
     ]
    }
   ],
   "source": [
    "for i in range(M):\n",
    "    length, code = Encoder(dbps16[i], dbxs16[i])\n",
    "    print(dbxs16[i], \"->\", length, code)"
   ]
  },
  {
   "cell_type": "markdown",
   "id": "6bf5eea1-8758-4b64-944a-0a9419476b50",
   "metadata": {},
   "source": []
  },
  {
   "cell_type": "code",
   "execution_count": 15,
   "id": "f0209410-c520-4fe1-9197-f488abc7fd7c",
   "metadata": {},
   "outputs": [],
   "source": [
    "def BPC(block):\n",
    "    outputcode = np.array([], dtype=datatype)\n",
    "    outputlen = 0\n",
    "    \n",
    "    baseword, deltablock = Delta(block)\n",
    "    dbps = DBP16(deltablock)\n",
    "    dbxs = DBX16(dbps)\n",
    "    basesymbol = toBinary(baseword, 16)\n",
    "\n",
    "    zrl = 0\n",
    "\n",
    "    for i in range(M):\n",
    "        length, code = Encoder(dbps[i], dbxs[i])\n",
    "\n",
    "        if np.array_equal(code, np.array([0, 0, 1], dtype = datatype)): # all-0 DBX 일 경우\n",
    "            zrl += 1\n",
    "            continue\n",
    "\n",
    "        else: # all-0 DBX가 아닐 경우\n",
    "            if zrl != 0: # 근데 앞에 all-0 DBX가 있었을 경우\n",
    "                if zrl == 1:\n",
    "                    outputcode = np.concatenate((outputcode, np.array([0, 0, 1], dtype = datatype)), axis=None)\n",
    "                    outputlen += 3\n",
    "                else:\n",
    "                    runlen = toBinary(zrl-2, 4) \n",
    "                    outputcode = np.concatenate((outputcode, np.array([0, 1], dtype=datatype), runlen), axis=None)\n",
    "                    outputlen += 2 + 4\n",
    "                # 이제 all-0 DBX가 아닌 현재 code를 붙여줘야함\n",
    "                outputcode = np.concatenate((outputcode, code), axis=None)\n",
    "                outputlen += length\n",
    "                zrl = 0\n",
    "            else: # 앞에 all-0 DBX가 없었을 경우\n",
    "                outputcode = np.concatenate((outputcode, code), axis=None)\n",
    "                outputlen += length\n",
    "    \n",
    "    if zrl != 0:\n",
    "        if zrl == 1:\n",
    "            outputcode = np.concatenate((outputcode, np.array([0, 0, 1], dtype = datatype)), axis=None)\n",
    "            outputlen += 3\n",
    "        else:\n",
    "            runlen = toBinary(zrl-2, 4) \n",
    "            outputcode = np.concatenate((outputcode, np.array([0, 1], dtype=datatype), runlen), axis=None)\n",
    "            outputlen += 2 + 4\n",
    "        \n",
    "    outputlen += 16\n",
    "    outputcode = np.concatenate((basesymbol, outputcode), axis=None)\n",
    "    \n",
    "    outputlen += 2\n",
    "    outputcode = np.concatenate((np.array([0, 0], dtype=datatype), outputcode), axis=None)\n",
    "    \n",
    "    \n",
    "    # padding\n",
    "    if outputlen < 512:\n",
    "        e = 512 - outputlen\n",
    "        ex = np.zeros(e, dtype=datatype)\n",
    "        outputcode = np.concatenate((outputcode, ex), axis=None)\n",
    "\n",
    "    \n",
    "    return outputcode, outputlen"
   ]
  },
  {
   "cell_type": "code",
   "execution_count": 16,
   "id": "490c6c05-4f2c-48f8-bd15-e635be8bf8ff",
   "metadata": {},
   "outputs": [
    {
     "name": "stdout",
     "output_type": "stream",
     "text": [
      "[0 0 0 0 0 0 0 0 0 0 0 0 0 0 0 0 0 0 0 0 1 0 0 0 1 1 1 0 1 0 1 0 1 0 1 0 0 0 0 0 0 0 0 0 0 0 0 0 0 0 0 0 0 1 0 0 0 0 0 0 0 0 0 0 0 1 0 0 0 0 0 0 0 0 0 0 0 0 0 0 0 0 0 0 0 0 0 0 0 0 0 0 0 0 0 0 1 0 1 0 0 0 0 0 0 0 0 0 0 0 0 0 0 0 0 0 0 1 0 0 0 0 0 0 0 0 0 0 0 0 0 0 0 0 0 0 0 0 0 0 0 0 0 0 0 0 0 0 0 0 0 0 0 0 0 0 0 0 0 0 0 0 0 1 1 0 1 1 1 1 0 1 0 0 0 0 0 0 0 0 0 0 0 0 0 0 0 0 0 0 0 0 0 0 0 0 0 0 0 0 0 0 0 0 1 0 0 0 0 0 0 0 0 0 0 0 0 0 0 0 0 1 0 0 0 0 0 0 0 0 0 0 0 0 0 1 0 0 0 0 0 0 0 0 0 0 0 0 0 0 0 0 0 0 0 1 1 0 0 0 0 0 1 0 0 0 0 0 1 1 0 0 0 0 0 0 0 0 0 0 0 0 0 0 0 1 0 0 0 0 0 0 0 0 0 0 0 0 0 1 0 0 0 0 0 0 0 0 0 0 0 0 0 0 0 0 0 0 0 0 0 0 0 0 0 0 1 0 1 0 0 0 0 1 0 0 0 1 0 0 0 0 0 0 0 0 0 0 0 0 0 0 0 0 0 0 0 0 0 0 0 0 0 1 0 1 0 0 0 0 0 0 0 0 0 0 0 0 0 0 0 0 0 1 0 0 0 0 0 0 0 0 1 0 0 0 1 0 0 0 0 0 0 0 0 0 0 0 0 0 0 0 0 1 0 0 0 0 0 0 0 0 0 0 0 0 0 1 0 1 0 0 0 0 0 0 0 0 0 0 0 0 0 0 0 0 0 1 1 0 0 0 0 0 0 0 1 0 0 0 1 0 0 0 0 1 0 0 0 0 0 0 0 0 0 0 0 1 0 0 0 0 0 0 0 0 0 0 0 0 0 1 0 0 0 0 0 0 0 0 0 0 0 0 0 0 0 0 0 0 0 1 0 0 0 0 0 0 0 0 0 0 0 0 0 1 0 0 0 1 0 0 0 0 0 0 0 0 0 0 0 0 0 0 0 0 0 0 0 0 0 0 0 0 0 1 0 1 0 0 0 0 0 0 0 0 0 0 0 0 0 0 0 0 0 1 0 0 0 0 0 0 0 0 1 0 0 0 1 0 0 0 0 1 0 0 0 0 0 0 0 0 0 0 0 1 0 0 0 0 0 0 0 0 0 0 0 0 0 1 0 0 0 0 0 0 0 0 0 0 0 0 0 0 0 0 0 0 0 0 0 0 0 0 0 0 0 0 1 0 0 0 1 1 0 0 0 0 0 0 0 0 0 0 0 0 0 0 0 1 0 0 0 0 0 0 0 0 0 0 0 0 0 1 0 0 0 0 0 0 0 0 0 0 0 0 0 0 0 0 0 0 0 1 1 0 0 0 0 0 1 0 1 0 0 0 0 1 0 0 0 1 0 0 0 0 0 0 0 0 0 0 0 0 0 0 0 0 0 0 0 0 0 0 0 0 0 1 0 0 0 0 0 0 0 0 0 0 0 0 0 0 0 0 0 0 0 1 1 0 0 0 0 0 0 0 1 0 0 0 1 0 0 0 0 0 0 0 0 0 0 0 0 0 0 0 0 0 0 0 0 0 0 0 0 0 0 0 0 0 0 1 0 0 0 0 0 0 0 0 0 0 0 0 0 0 0 0 0 0 0 1 1 0 0 0 0 0 1 0 0 0 0 0 0 0 0 0 0 1 0 0 0 0 0 0 0 0 0 0 0 1 0 0 0 0 0 0 0 0 0 0 0 0 0]\n",
      "875\n",
      "875\n"
     ]
    }
   ],
   "source": [
    "result_bpc, len_bpc = BPC(data)\n",
    "print(result_bpc)\n",
    "print(len_bpc)\n",
    "print(len(result_bpc))\n"
   ]
  },
  {
   "cell_type": "code",
   "execution_count": 17,
   "id": "795c3133-f3e5-47e6-9184-c18eeb237e1e",
   "metadata": {},
   "outputs": [],
   "source": [
    "def ZRLE(block):\n",
    "    outputcode = np.array([], dtype=datatype)\n",
    "    outputlen = 0\n",
    "    new_block = block.reshape(-1, 4)\n",
    "    for idx in range(new_block.shape[0]):\n",
    "        vec = np.where(new_block[idx] > 0)[0]\n",
    "        if len(vec) == 0:\n",
    "            outputcode = np.concatenate((outputcode, np.array([0, 0, 0, 0, 0, 0], dtype=datatype)), axis=None)\n",
    "            outputlen += 6\n",
    "        elif len(vec) == 1:\n",
    "            if vec[0] == 3:\n",
    "                outputcode = np.concatenate((outputcode, np.array([0, 0, 0, 0, 0, 1], dtype=datatype)), axis=None)\n",
    "                outputlen += 6\n",
    "            elif vec[0] == 2:\n",
    "                outputcode = np.concatenate((outputcode, np.array([0, 0, 0, 0, 1], dtype=datatype)), axis=None)\n",
    "                outputlen += 5\n",
    "            elif vec[0] == 1:\n",
    "                outputcode = np.concatenate((outputcode, np.array([0, 0, 0, 1, 0], dtype=datatype)), axis=None)\n",
    "                outputlen += 5\n",
    "            elif vec[0] == 0:\n",
    "                outputcode = np.concatenate((outputcode, np.array([0, 0, 0, 1, 1], dtype=datatype)), axis=None)\n",
    "                outputlen += 5\n",
    "            outputcode = np.concatenate((outputcode, toBinary(new_block[idx][vec[0]], 16)), axis=None)\n",
    "            outputlen += 16\n",
    "        elif len(vec) == 2:\n",
    "            if vec[1] == 3:\n",
    "                if vec[0] == 2:\n",
    "                    outputcode = np.concatenate((outputcode, np.array([0, 0, 1, 0], dtype=datatype)), axis=None)\n",
    "                    outputlen += 4\n",
    "                elif vec[0] == 1:\n",
    "                    outputcode = np.concatenate((outputcode, np.array([0, 0, 1, 1], dtype=datatype)), axis=None)\n",
    "                    outputlen += 4\n",
    "                elif vec[0] == 0:\n",
    "                    outputcode = np.concatenate((outputcode, np.array([0, 1, 0, 0], dtype=datatype)), axis=None)\n",
    "                    outputlen += 4\n",
    "            elif vec[1] == 2:\n",
    "                if vec[0] == 1:\n",
    "                    outputcode = np.concatenate((outputcode, np.array([0, 1, 0, 1], dtype=datatype)), axis=None)\n",
    "                    outputlen += 4\n",
    "                elif vec[0] == 0:\n",
    "                    outputcode = np.concatenate((outputcode, np.array([0, 1, 1, 0], dtype=datatype)), axis=None)\n",
    "                    outputlen += 4\n",
    "            elif vec[1] == 1:\n",
    "                outputcode = np.concatenate((outputcode, np.array([0, 1, 1, 1], dtype=datatype)), axis=None)\n",
    "                outputlen += 4\n",
    "            outputcode = np.concatenate((outputcode, toBinary(new_block[idx][vec[0]], 16), toBinary(new_block[idx][vec[1]], 16)), axis=None)\n",
    "            outputlen += 32\n",
    "        elif len(vec) == 3:\n",
    "            sumvec = vec[0] + vec[1] + vec[2]\n",
    "            if sumvec == 6: #123\n",
    "                outputcode = np.concatenate((outputcode, np.array([1, 0, 0, 0], dtype=datatype)), axis=None)\n",
    "                outputlen += 4\n",
    "            elif sumvec == 5: #023\n",
    "                outputcode = np.concatenate((outputcode, np.array([1, 0, 0, 1], dtype=datatype)), axis=None)\n",
    "                outputlen += 4\n",
    "            elif sumvec == 4: #013\n",
    "                outputcode = np.concatenate((outputcode, np.array([1, 0, 1, 0], dtype=datatype)), axis=None)\n",
    "                outputlen += 4\n",
    "            elif sumvec == 3: #012\n",
    "                outputcode = np.concatenate((outputcode, np.array([1, 0, 1, 1], dtype=datatype)), axis=None)\n",
    "                outputlen += 4\n",
    "            outputcode = np.concatenate((outputcode, toBinary(new_block[idx][vec[0]], 16), toBinary(new_block[idx][vec[1]], 16), toBinary(new_block[idx][vec[2]], 16)), axis=None)\n",
    "            outputlen += 48\n",
    "        elif len(vec) == 4:\n",
    "            outputcode = np.concatenate((outputcode, np.array([1, 1], dtype=datatype)), axis=None)\n",
    "            outputcode = np.concatenate((outputcode, toBinary(new_block[idx][vec[0]], 16), toBinary(new_block[idx][vec[1]], 16), toBinary(new_block[idx][vec[2]], 16), toBinary(new_block[idx][vec[3]], 16)), axis=None)\n",
    "            outputlen += 66\n",
    "\n",
    "    outputcode = np.concatenate((np.array([0, 1], dtype=datatype), outputcode), axis=None)\n",
    "    outputlen += 2\n",
    "    \n",
    "    # padding\n",
    "    if outputlen < 512:\n",
    "        e = 512 - outputlen\n",
    "        ex = np.zeros(e, dtype=datatype)\n",
    "        outputcode = np.concatenate((outputcode, ex), axis=None)\n",
    "    \n",
    "    return outputcode, outputlen"
   ]
  },
  {
   "cell_type": "code",
   "execution_count": 18,
   "id": "c80994ab-05dd-44a5-9953-7d9064292485",
   "metadata": {},
   "outputs": [
    {
     "name": "stdout",
     "output_type": "stream",
     "text": [
      "[0 1 0 0 0 0 1 0 0 1 0 0 0 0 0 1 0 0 1 1 1 1 1 0 0 0 0 0 0 0 0 0 0 0 0 0 0 0 0 0 0 0 0 0 0 0 0 0 1 1 1 0 0 0 0 0 0 1 1 0 1 0 1 1 0 1 0 0 1 0 1 1 1 0 0 0 1 1 1 1 0 1 0 0 0 0 0 0 1 0 0 0 0 0 0 1 0 0 0 0 0 0 1 1 0 0 0 0 1 0 0 0 0 0 0 0 0 1 0 1 1 0 1 0 1 1 0 1 0 1 0 0 1 1 0 1 0 0 1 0 0 1 0 0 1 1 0 0 0 0 0 0 1 0 0 0 1 1 0 1 1 1 0 0 0 0 1 0 0 0 0 0 0 0 1 1 0 1 0 0 1 1 0 0 0 0 0 0 0 0 0 0 0 0 0 0 0 0 0 1 0 0 0 0 0 1 0 0 1 0 0 1 0 0 0 1 0 0 0 0 0 0 0 0 0 0 0 0 0 0 0 0 0 0 0 0 0 0 0 0 0 0 0 0 0 0 0 0 0 0 0 0 0 0 0 0 0 0 0 0 0 0 0 0 0 0 0 0 0 0 0 0 0 0 0 0 0 0 0 0 0 0 0 0 0 0 0 0 0 0 0 0 0 0 0 0 0 0 0 0 0 0 0 0 0 0 0 0 0 0 0 0 0 0 0 0 0 0 0 0 0 0 0 0 0 0 0 0 0 0 0 0 0 0 0 0 0 0 0 0 0 0 0 0 0 0 0 0 0 0 0 0 0 0 0 0 0 0 0 0 0 0 0 0 0 0 0 0 0 0 0 0 0 0 0 0 0 0 0 0 0 0 0 0 0 0 0 0 0 0 0 0 0 0 0 0 0 0 0 0 0 0 0 0 0 0 0 0 0 0 0 0 0 0 0 0 0 0 0 0 0 0 0 0 0 0 0 0 0 0 0 0 0 0 0 0 0 0 0 0 0 0 0 0 0 0 0 0 0 0 0 0 0 0 0 0 0 0 0 0 0 0 0 0 0 0 0 0 0 0 0 0 0 0 0 0 0 0 0 0 0 0 0 0 0 0 0 0 0 0 0 0 0 0 0 0 0 0 0 0 0 0 0 0 0 0 0 0 0 0 0 0]\n",
      "234\n",
      "512\n"
     ]
    }
   ],
   "source": [
    "result_zrl, len_zrl = ZRLE(data)\n",
    "print(result_zrl)\n",
    "print(len_zrl)\n",
    "print(len(result_zrl))"
   ]
  },
  {
   "cell_type": "code",
   "execution_count": 19,
   "id": "accd8f91-7e3c-4fb7-a0ab-ac608133fa49",
   "metadata": {},
   "outputs": [],
   "source": [
    "def SR(block):\n",
    "    reduct_block = np.logical_or(block < 128, block > 65407)\n",
    "    idx_block = np.where(block > 65407)[0]\n",
    "    dup_block = block.copy()\n",
    "    outputcode = np.array([], dtype=datatype)\n",
    "    if np.all(reduct_block == True):\n",
    "        if (block[0] < 64 or block[0] > 65471):\n",
    "            ret_flag = 1\n",
    "        else:\n",
    "            ret_flag = 0\n",
    "    else:\n",
    "        ret_flag = 0\n",
    "    \n",
    "    if (dup_block[0] > 65407):\n",
    "        dup_block[0] -= 128\n",
    "    dup_block = dup_block.astype(np.uint8)\n",
    "    \n",
    "    for idx in range(len(dup_block)):\n",
    "        if idx == 0:\n",
    "            outputcode = np.concatenate((outputcode, np.array([1], dtype=datatype), toBinary(dup_block[idx], 7)[-7:]), axis=None)\n",
    "        else:\n",
    "            outputcode = np.concatenate((outputcode, toBinary(dup_block[idx], 8)), axis=None)\n",
    "    \n",
    "    return outputcode, ret_flag"
   ]
  },
  {
   "cell_type": "code",
   "execution_count": 20,
   "id": "47f8c556-7014-422f-8c12-bbbf9923d0f4",
   "metadata": {},
   "outputs": [
    {
     "name": "stdout",
     "output_type": "stream",
     "text": [
      "[1 0 0 0 0 0 0 0 0 0 0 0 0 0 0 0 1 0 0 1 1 1 1 1 0 0 0 0 0 0 0 0 0 0 0 0 0 0 0 0 0 0 0 0 0 0 0 0 0 0 0 0 0 0 0 0 0 0 0 0 0 0 0 0 0 0 0 0 0 0 0 0 0 0 0 0 0 0 0 0 0 0 0 0 0 0 0 0 0 0 0 0 0 0 0 0 0 0 0 0 0 0 0 0 0 0 0 0 0 0 0 0 0 0 0 0 0 0 0 0 0 0 0 0 0 0 0 0 0 0 0 0 0 0 0 0 0 0 0 0 0 0 0 0 0 0 0 0 0 0 0 0 0 0 0 0 0 0 0 0 0 1 0 1 1 0 1 0 0 1 1 1 1 0 1 0 0 0 0 0 0 0 0 0 0 0 0 0 0 0 0 0 0 0 0 0 0 0 0 0 0 0 0 0 0 0 0 0 0 0 0 0 0 0 0 0 0 0 0 0 0 1 1 0 0 0 0 0 0 0 0 0 0 1 1 0 1 0 1 1 0 0 0 0 0 0 0 0 0 0 0 0 0 0 0 0 0 0 0 0 0 0 0 0 1 0 0 1 0 0 1 1 0 0 1 1 0 1 1 1 0 0 0 0 0 0 0 0 0 0 0 0 0 0 0 0 0 0 0 0 0 0 0 0 1 0 1 0 0 1 1 0 0 0 0 0 0 0 0 0 0 0 0 0 0 0 0 0 0 0 0 0 0 0 0 0 0 0 0 0 0 0 0 0 0 0 0 0 0 0 0 0 0 0 0 0 0 0 0 0 0 0 0 0 0 0 0 0 0 0 0 0 0 0 0 0 0 0 0 0 0 0 0 0 0 0 0 0 0 0 0 0 0 0 0 0 0 0 0 0 1 0 0 1 0 0 0 1 0 0 0 0 0 0 0 0 0 0 0 0 0 0 0 0 0 0 0 0 0 0 0 0 0 0 0 0 0 0 0 0 0 0 0 0 0 0 0 0 0 0 0 0 0 0 0 0 0 0 0 0 0 0 0 0 0 0 0 0 0 0 0 0 0 0 0 0 0 0 0 0 0 0 0 0 0 0 0 0 0 0 0 0 0 0 0 0 0 0 0 0 0 0 0 0 0 0 0 0 0 0 0 0]\n",
      "0\n",
      "512\n"
     ]
    }
   ],
   "source": [
    "result_sr, len_sr = SR(data)\n",
    "print(result_sr)\n",
    "print(len_sr)\n",
    "print(len(result_sr))"
   ]
  },
  {
   "cell_type": "code",
   "execution_count": 21,
   "id": "7dcf4c57-08af-4a21-be40-f54d758ef9a3",
   "metadata": {},
   "outputs": [
    {
     "name": "stdout",
     "output_type": "stream",
     "text": [
      "[0 1 0 0 0 0 1 0 0 1 0 0 0 0 0 1 0 0 1 1 1 1 1 0 0 0 0 0 0 0 0 0 0 0 0 0 0 0 0 0 0 0 0 0 0 0 0 0 1 1 1 0 0 0 0 0 0 1 1 0 1 0 1 1 0 1 0 0 1 0 1 1 1 0 0 0 1 1 1 1 0 1 0 0 0 0 0 0 1 0 0 0 0 0 0 1 0 0 0 0 0 0 1 1 0 0 0 0 1 0 0 0 0 0 0 0 0 1 0 1 1 0 1 0 1 1 0 1 0 1 0 0 1 1 0 1 0 0 1 0 0 1 0 0 1 1 0 0 0 0 0 0 1 0 0 0 1 1 0 1 1 1 0 0 0 0 1 0 0 0 0 0 0 0 1 1 0 1 0 0 1 1 0 0 0 0 0 0 0 0 0 0 0 0 0 0 0 0 0 1 0 0 0 0 0 1 0 0 1 0 0 1 0 0 0 1 0 0 0 0 0 0 0 0 0 0 0 0 0 0 0 0 0 0 0 0 0 0 0 0 0 0 0 0 0 0 0 0 0 0 0 0 0 0 0 0 0 0 0 0 0 0 0 0 0 0 0 0 0 0 0 0 0 0 0 0 0 0 0 0 0 0 0 0 0 0 0 0 0 0 0 0 0 0 0 0 0 0 0 0 0 0 0 0 0 0 0 0 0 0 0 0 0 0 0 0 0 0 0 0 0 0 0 0 0 0 0 0 0 0 0 0 0 0 0 0 0 0 0 0 0 0 0 0 0 0 0 0 0 0 0 0 0 0 0 0 0 0 0 0 0 0 0 0 0 0 0 0 0 0 0 0 0 0 0 0 0 0 0 0 0 0 0 0 0 0 0 0 0 0 0 0 0 0 0 0 0 0 0 0 0 0 0 0 0 0 0 0 0 0 0 0 0 0 0 0 0 0 0 0 0 0 0 0 0 0 0 0 0 0 0 0 0 0 0 0 0 0 0 0 0 0 0 0 0 0 0 0 0 0 0 0 0 0 0 0 0 0 0 0 0 0 0 0 0 0 0 0 0 0 0 0 0 0 0 0 0 0 0 0 0 0 0 0 0 0 0 0 0 0 0 0 0 0 0 0 0 0 0 0 0 0 0 0 0 0 0 0 0 0 0 0]\n"
     ]
    }
   ],
   "source": [
    "if len_sr == 1:\n",
    "    print(result_sr)\n",
    "elif len_zrl < 513:\n",
    "    print(result_zrl)\n",
    "elif len_bpc < 513:\n",
    "    print(result_bpc)\n",
    "else:\n",
    "    print(result_bpc[:512])"
   ]
  },
  {
   "cell_type": "code",
   "execution_count": 22,
   "id": "1eaef5da-2328-43a6-948c-0fc968fb5d81",
   "metadata": {},
   "outputs": [
    {
     "name": "stderr",
     "output_type": "stream",
     "text": [
      "/home/urimi1204/anaconda3/envs/urim01/lib/python3.7/site-packages/ipykernel_launcher.py:3: DeprecationWarning: Insufficient bit width provided. This behavior will raise an error in the future.\n",
      "  This is separate from the ipykernel package so we can avoid doing imports until\n"
     ]
    }
   ],
   "source": [
    "newline = \"\\n\"\n",
    "\n",
    "fw = open('/home/urimi1204/KETI/features.txt', 'r')\n",
    "f = open(\"/home/urimi1204/KETI/features_from_comp.txt\", 'w')\n",
    "\n",
    "while True:\n",
    "    line = fw.readline()\n",
    "    if not line:\n",
    "        break\n",
    "    newarr = np.array([], dtype=np.uint16)\n",
    "    npline = np.array(list(line[:-1]), dtype=np.uint16).reshape(-1, 16)\n",
    "    for i in range(64):\n",
    "        newarr = np.append(newarr, toDecimal(npline[i]), axis=None)\n",
    "    bpc_code, bpc_len = BPC(newarr)\n",
    "    zrl_code, zrl_len = ZRLE(newarr)\n",
    "    sr_code, sr_flag = SR(newarr)\n",
    "    \n",
    "\n",
    "    \n",
    "    if sr_flag == 1:\n",
    "        result = \"\".join(sr_code.astype(\"str\"))\n",
    "    elif zrl_len < 513:\n",
    "        result = \"\".join(zrl_code.astype(\"str\"))\n",
    "    elif bpc_len < 513:\n",
    "        result = \"\".join(bpc_code.astype(\"str\"))\n",
    "    else:\n",
    "        result = \"\".join(bpc_code[0:512].astype(\"str\"))\n",
    "    \n",
    "    \n",
    "    f.write(result)\n",
    "    f.write(newline)\n",
    "\n",
    "f.close()\n",
    "fw.close()\n"
   ]
  },
  {
   "cell_type": "code",
   "execution_count": null,
   "id": "c6a04aa0-08d7-4280-81ef-9b6d7d26b1d8",
   "metadata": {},
   "outputs": [],
   "source": []
  },
  {
   "cell_type": "code",
   "execution_count": null,
   "id": "9103bdd7-5f77-47aa-91bb-3647b4240c8e",
   "metadata": {},
   "outputs": [],
   "source": []
  }
 ],
 "metadata": {
  "kernelspec": {
   "display_name": "Python 3",
   "language": "python",
   "name": "python3"
  },
  "language_info": {
   "codemirror_mode": {
    "name": "ipython",
    "version": 3
   },
   "file_extension": ".py",
   "mimetype": "text/x-python",
   "name": "python",
   "nbconvert_exporter": "python",
   "pygments_lexer": "ipython3",
   "version": "3.7.10"
  }
 },
 "nbformat": 4,
 "nbformat_minor": 5
}
